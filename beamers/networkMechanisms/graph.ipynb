{
 "cells": [
  {
   "cell_type": "code",
   "execution_count": 1,
   "metadata": {},
   "outputs": [],
   "source": [
    "import numpy as np\n",
    "import matplotlib.pyplot as plt\n",
    "import networkx as nx"
   ]
  },
  {
   "cell_type": "code",
   "execution_count": 2,
   "metadata": {},
   "outputs": [],
   "source": [
    "# team A\n",
    "nodes = [\"M1\", \"M2\", \"M3\", \"S1\", \"S2\", \"S3\", \"S4\"]\n",
    "edges = [\n",
    "    (\"M1\", \"M2\"),\n",
    "    (\"M2\", \"M3\"),\n",
    "    (\"M1\", \"M3\"),\n",
    "    (\"M1\", \"S1\"),\n",
    "    (\"M1\", \"S2\"),\n",
    "    (\"M2\", \"S3\"),\n",
    "    (\"M3\", \"S4\"),\n",
    "]\n",
    "g = nx.Graph()\n",
    "g.add_nodes_from(nodes)\n",
    "g.add_edges_from(edges)"
   ]
  },
  {
   "cell_type": "code",
   "execution_count": 16,
   "metadata": {},
   "outputs": [
    {
     "data": {
      "image/png": "[encoded data removed]",
      "text/plain": [
       "<Figure size 200x200 with 1 Axes>"
      ]
     },
     "metadata": {},
     "output_type": "display_data"
    }
   ],
   "source": [
    "fig = plt.figure(figsize=(2,2))\n",
    "ax = fig.add_subplot(111)\n",
    "pos = nx.spring_layout(g)\n",
    "nx.draw(g, ax=ax, with_labels=True, pos=pos, node_color=\"white\", font_size=\"10\")\n",
    "plt.savefig(\"images/team_a.pgf\", bbox_inches=\"tight\", pad_inches=0)"
   ]
  },
  {
   "cell_type": "code",
   "execution_count": 21,
   "metadata": {},
   "outputs": [],
   "source": [
    "# team B\n",
    "nodes = [\"M1\", \"M2\", \"M3\", \"S1\", \"S2\", \"S3\", \"S4\"]\n",
    "edges = [\n",
    "    (\"M1\", \"M2\"),\n",
    "    (\"M2\", \"M3\"),\n",
    "    (\"M1\", \"M3\"),\n",
    "    (\"M1\", \"S1\"),\n",
    "    (\"M1\", \"S2\"),\n",
    "    (\"M2\", \"S3\"),\n",
    "    (\"M3\", \"S4\"),\n",
    "    (\"S1\", \"S2\"),\n",
    "    (\"S1\", \"S3\"),\n",
    "    (\"S1\", \"M2\"),\n",
    "    (\"S1\", \"M3\"),\n",
    "    (\"S2\", \"S3\"),\n",
    "    (\"S2\", \"M2\"),\n",
    "    (\"S2\", \"M3\"),\n",
    "    (\"S3\", \"M1\"),\n",
    "    (\"S3\", \"M2\"),\n",
    "    (\"S4\", \"S3\"),\n",
    "    (\"S4\", \"S1\"),\n",
    "    (\"S4\", \"S2\"),\n",
    "    (\"S4\", \"S3\"),\n",
    "    (\"S4\", \"M2\"),\n",
    "]\n",
    "g = nx.Graph()\n",
    "g.add_nodes_from(nodes)\n",
    "g.add_edges_from(edges)"
   ]
  },
  {
   "cell_type": "code",
   "execution_count": 22,
   "metadata": {},
   "outputs": [
    {
     "data": {
      "image/png": "[encoded data removed]",
      "text/plain": [
       "<Figure size 200x200 with 1 Axes>"
      ]
     },
     "metadata": {},
     "output_type": "display_data"
    }
   ],
   "source": [
    "fig = plt.figure(figsize=(2,2))\n",
    "ax = fig.add_subplot(111)\n",
    "pos = nx.spring_layout(g)\n",
    "nx.draw(g, ax=ax, with_labels=True, pos=pos, node_color=\"white\", font_size=\"10\")\n",
    "plt.savefig(\"images/team_b.pgf\", bbox_inches=\"tight\", pad_inches=0)"
   ]
  },
  {
   "cell_type": "code",
   "execution_count": 43,
   "metadata": {},
   "outputs": [
    {
     "data": {
      "image/png": "[encoded data removed]",
      "text/plain": [
       "<Figure size 130x130 with 1 Axes>"
      ]
     },
     "metadata": {},
     "output_type": "display_data"
    }
   ],
   "source": [
    "# team A vs B \n",
    "fig = plt.figure(figsize=(1.3,1.3))\n",
    "ax = fig.add_subplot(111)\n",
    "ax.scatter([0.9, 0.1], [0.1, 0.9], color=\"k\")\n",
    "ax.set_xlabel(\"Speed\")\n",
    "ax.set_ylabel(\"Accuracy\")\n",
    "ax.set_xticks([0, 1])\n",
    "ax.set_xticklabels([\"Low\", \"High\"])\n",
    "ax.set_yticks([0, 1])\n",
    "ax.set_yticklabels([\"Low\", \"High\"])\n",
    "ax.spines[\"top\"].set_visible(False)\n",
    "ax.spines[\"right\"].set_visible(False)\n",
    "ax.text(0.2, 0.9, \"Team A\")\n",
    "ax.text(0.6, 0.2, \"Team B\")\n",
    "plt.savefig(\"images/team_comparison.pgf\", bbox_inches=\"tight\")"
   ]
  },
  {
   "cell_type": "code",
   "execution_count": 44,
   "metadata": {},
   "outputs": [
    {
     "ename": "ModuleNotFoundError",
     "evalue": "No module named 'sklearn.mixture.gaussian_mixture'",
     "output_type": "error",
     "traceback": [
      "\u001b[0;31m---------------------------------------------------------------------------\u001b[0m",
      "\u001b[0;31mModuleNotFoundError\u001b[0m                       Traceback (most recent call last)",
      "\u001b[1;32m/Users/sbbk475/githubRepos/net-analysis-smm638/beamers/networkMechanisms/graph.ipynb Cell 7\u001b[0m in \u001b[0;36m<cell line: 2>\u001b[0;34m()\u001b[0m\n\u001b[1;32m      <a href='vscode-notebook-cell:/Users/sbbk475/githubRepos/net-analysis-smm638/beamers/networkMechanisms/graph.ipynb#W6sZmlsZQ%3D%3D?line=0'>1</a>\u001b[0m \u001b[39m# simulate a cp network\u001b[39;00m\n\u001b[0;32m----> <a href='vscode-notebook-cell:/Users/sbbk475/githubRepos/net-analysis-smm638/beamers/networkMechanisms/graph.ipynb#W6sZmlsZQ%3D%3D?line=1'>2</a>\u001b[0m \u001b[39mfrom\u001b[39;00m \u001b[39mgraspy\u001b[39;00m\u001b[39m.\u001b[39;00m\u001b[39msimulations\u001b[39;00m \u001b[39mimport\u001b[39;00m sbm\n\u001b[1;32m      <a href='vscode-notebook-cell:/Users/sbbk475/githubRepos/net-analysis-smm638/beamers/networkMechanisms/graph.ipynb#W6sZmlsZQ%3D%3D?line=2'>3</a>\u001b[0m \u001b[39mimport\u001b[39;00m \u001b[39mnumpy\u001b[39;00m \u001b[39mas\u001b[39;00m \u001b[39mnp\u001b[39;00m\n\u001b[1;32m      <a href='vscode-notebook-cell:/Users/sbbk475/githubRepos/net-analysis-smm638/beamers/networkMechanisms/graph.ipynb#W6sZmlsZQ%3D%3D?line=3'>4</a>\u001b[0m \u001b[39mimport\u001b[39;00m \u001b[39mpandas\u001b[39;00m \u001b[39mas\u001b[39;00m \u001b[39mpd\u001b[39;00m\n",
      "File \u001b[0;32m~/opt/anaconda3/envs/na/lib/python3.10/site-packages/graspy/__init__.py:3\u001b[0m, in \u001b[0;36m<module>\u001b[0;34m\u001b[0m\n\u001b[1;32m      1\u001b[0m \u001b[39mimport\u001b[39;00m \u001b[39mwarnings\u001b[39;00m\n\u001b[0;32m----> 3\u001b[0m \u001b[39mimport\u001b[39;00m \u001b[39mgraspy\u001b[39;00m\u001b[39m.\u001b[39;00m\u001b[39mcluster\u001b[39;00m\n\u001b[1;32m      4\u001b[0m \u001b[39mimport\u001b[39;00m \u001b[39mgraspy\u001b[39;00m\u001b[39m.\u001b[39;00m\u001b[39mdatasets\u001b[39;00m\n\u001b[1;32m      5\u001b[0m \u001b[39mimport\u001b[39;00m \u001b[39mgraspy\u001b[39;00m\u001b[39m.\u001b[39;00m\u001b[39membed\u001b[39;00m\n",
      "File \u001b[0;32m~/opt/anaconda3/envs/na/lib/python3.10/site-packages/graspy/cluster/__init__.py:3\u001b[0m, in \u001b[0;36m<module>\u001b[0;34m\u001b[0m\n\u001b[1;32m      1\u001b[0m \u001b[39mfrom\u001b[39;00m \u001b[39m.\u001b[39;00m\u001b[39mgclust\u001b[39;00m \u001b[39mimport\u001b[39;00m GaussianCluster\n\u001b[1;32m      2\u001b[0m \u001b[39mfrom\u001b[39;00m \u001b[39m.\u001b[39;00m\u001b[39mkclust\u001b[39;00m \u001b[39mimport\u001b[39;00m KMeansCluster\n\u001b[0;32m----> 3\u001b[0m \u001b[39mfrom\u001b[39;00m \u001b[39m.\u001b[39;00m\u001b[39mautogmm\u001b[39;00m \u001b[39mimport\u001b[39;00m AutoGMMCluster\n\u001b[1;32m      5\u001b[0m __all__ \u001b[39m=\u001b[39m [\u001b[39m\"\u001b[39m\u001b[39mGaussianCluster\u001b[39m\u001b[39m\"\u001b[39m, \u001b[39m\"\u001b[39m\u001b[39mKMeansCluster\u001b[39m\u001b[39m\"\u001b[39m, \u001b[39m\"\u001b[39m\u001b[39mAutoGMMCluster\u001b[39m\u001b[39m\"\u001b[39m]\n",
      "File \u001b[0;32m~/opt/anaconda3/envs/na/lib/python3.10/site-packages/graspy/cluster/autogmm.py:20\u001b[0m, in \u001b[0;36m<module>\u001b[0;34m\u001b[0m\n\u001b[1;32m     18\u001b[0m \u001b[39mfrom\u001b[39;00m \u001b[39msklearn\u001b[39;00m\u001b[39m.\u001b[39;00m\u001b[39mmetrics\u001b[39;00m \u001b[39mimport\u001b[39;00m adjusted_rand_score\n\u001b[1;32m     19\u001b[0m \u001b[39mfrom\u001b[39;00m \u001b[39msklearn\u001b[39;00m\u001b[39m.\u001b[39;00m\u001b[39mmixture\u001b[39;00m \u001b[39mimport\u001b[39;00m GaussianMixture\n\u001b[0;32m---> 20\u001b[0m \u001b[39mfrom\u001b[39;00m \u001b[39msklearn\u001b[39;00m\u001b[39m.\u001b[39;00m\u001b[39mmixture\u001b[39;00m\u001b[39m.\u001b[39;00m\u001b[39mgaussian_mixture\u001b[39;00m \u001b[39mimport\u001b[39;00m (\n\u001b[1;32m     21\u001b[0m     _compute_precision_cholesky,\n\u001b[1;32m     22\u001b[0m     _estimate_gaussian_parameters,\n\u001b[1;32m     23\u001b[0m )\n\u001b[1;32m     24\u001b[0m \u001b[39mfrom\u001b[39;00m \u001b[39msklearn\u001b[39;00m\u001b[39m.\u001b[39;00m\u001b[39mmodel_selection\u001b[39;00m \u001b[39mimport\u001b[39;00m ParameterGrid\n\u001b[1;32m     25\u001b[0m \u001b[39mfrom\u001b[39;00m \u001b[39mjoblib\u001b[39;00m \u001b[39mimport\u001b[39;00m Parallel, delayed\n",
      "\u001b[0;31mModuleNotFoundError\u001b[0m: No module named 'sklearn.mixture.gaussian_mixture'"
     ]
    }
   ],
   "source": [
    "# simulate a cp network\n",
    "from graspy.simulations import sbm\n",
    "import numpy as np\n",
    "import pandas as pd\n",
    "import matplotlib.pyplot as plt\n",
    "from graspy.plot import adjplot, matrixplot\n",
    "import seaborn as sns"
   ]
  },
  {
   "cell_type": "code",
   "execution_count": null,
   "metadata": {},
   "outputs": [],
   "source": []
  }
 ],
 "metadata": {
  "kernelspec": {
   "display_name": "Python 3.10.4 ('na')",
   "language": "python",
   "name": "python3"
  },
  "language_info": {
   "codemirror_mode": {
    "name": "ipython",
    "version": 3
   },
   "file_extension": ".py",
   "mimetype": "text/x-python",
   "name": "python",
   "nbconvert_exporter": "python",
   "pygments_lexer": "ipython3",
   "version": "3.10.4"
  },
  "orig_nbformat": 4,
  "vscode": {
   "interpreter": {
    "hash": "c1eb2b328477c96d1111a773531fd261cbfb71ef11d622ba9fbdb0ee02d7f023"
   }
  }
 },
 "nbformat": 4,
 "nbformat_minor": 2
}
