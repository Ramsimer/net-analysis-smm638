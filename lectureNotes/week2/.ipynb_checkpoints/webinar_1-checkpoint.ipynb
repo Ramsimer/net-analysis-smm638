{
 "cells": [
  {
   "cell_type": "markdown",
   "metadata": {
    "nteract": {
     "transient": {
      "deleting": false
     }
    }
   },
   "source": [
    "\n",
    "# Agenda\n",
    "\n",
    " - familiarizing with the NetworkX library\n",
    " - initializing a NetworkX Graph object\n",
    "   + one-mode network\n",
    "     * undirected, unweighted network\n",
    "     * directed, unweighted network\n",
    "     * undirected, weighted network\n",
    "     * directed, weighted network\n",
    "   + two mode network\n",
    "     * testing the network is bipartite\n",
    " - initializing a NetworkX Graph object using diverse Python objects\n",
    "   + ... NumPy\n",
    "   + ... Pandas\n",
    "   + ... lists\n",
    "   + ... SciPy\n",
    " - iterating over a graph's vertices and edge\n",
    " - computing node centrality indicators (e.g., degree)\n",
    " - computing the average degree of a network\n",
    " - computing the degree distribution of a network\n",
    "\n"
   ]
  }
 ],
 "metadata": {
  "kernelspec": {
   "display_name": "Python 3",
   "language": "python",
   "name": "python3"
  },
  "latex_envs": {
   "LaTeX_envs_menu_present": true,
   "autoclose": false,
   "autocomplete": true,
   "bibliofile": "biblio.bib",
   "cite_by": "apalike",
   "current_citInitial": 1,
   "eqLabelWithNumbers": true,
   "eqNumInitial": 1,
   "hotkeys": {
    "equation": "Ctrl-E",
    "itemize": "Ctrl-I"
   },
   "labels_anchors": false,
   "latex_user_defs": false,
   "report_style_numbering": false,
   "user_envs_cfg": false
  },
  "toc": {
   "base_numbering": 1,
   "nav_menu": {},
   "number_sections": true,
   "sideBar": true,
   "skip_h1_title": false,
   "title_cell": "Table of Contents",
   "title_sidebar": "Contents",
   "toc_cell": false,
   "toc_position": {},
   "toc_section_display": true,
   "toc_window_display": false
  },
  "varInspector": {
   "cols": {
    "lenName": 16,
    "lenType": 16,
    "lenVar": 40
   },
   "kernels_config": {
    "python": {
     "delete_cmd_postfix": "",
     "delete_cmd_prefix": "del ",
     "library": "var_list.py",
     "varRefreshCmd": "print(var_dic_list())"
    },
    "r": {
     "delete_cmd_postfix": ") ",
     "delete_cmd_prefix": "rm(",
     "library": "var_list.r",
     "varRefreshCmd": "cat(var_dic_list()) "
    }
   },
   "types_to_exclude": [
    "module",
    "function",
    "builtin_function_or_method",
    "instance",
    "_Feature"
   ],
   "window_display": false
  }
 },
 "nbformat": 4,
 "nbformat_minor": 1
}
