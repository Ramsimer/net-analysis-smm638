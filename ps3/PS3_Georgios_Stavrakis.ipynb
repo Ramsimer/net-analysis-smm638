{
 "cells": [
  {
   "cell_type": "code",
   "execution_count": null,
   "id": "787c993c",
   "metadata": {
    "ExecuteTime": {
     "end_time": "2021-11-01T20:04:38.382092Z",
     "start_time": "2021-11-01T20:04:38.364059Z"
    }
   },
   "outputs": [],
   "source": [
    "import json\n",
    "import networkx as nx\n",
    "import pandas as pd"
   ]
  },
  {
   "cell_type": "code",
   "execution_count": null,
   "id": "8669e256",
   "metadata": {
    "ExecuteTime": {
     "end_time": "2021-11-01T20:04:38.398201Z",
     "start_time": "2021-11-01T20:04:38.383054Z"
    }
   },
   "outputs": [],
   "source": [
    "file = open('starwars-episode-5-interactions-allCharacters.json', encoding=\"utf8\")"
   ]
  },
  {
   "cell_type": "code",
   "execution_count": null,
   "id": "1dc73e63",
   "metadata": {
    "ExecuteTime": {
     "end_time": "2021-11-01T20:04:38.414112Z",
     "start_time": "2021-11-01T20:04:38.403061Z"
    }
   },
   "outputs": [],
   "source": [
    "data = json.load(file)"
   ]
  },
  {
   "cell_type": "code",
   "execution_count": null,
   "id": "14f8ba05",
   "metadata": {
    "ExecuteTime": {
     "end_time": "2021-11-01T20:04:38.430055Z",
     "start_time": "2021-11-01T20:04:38.417057Z"
    }
   },
   "outputs": [],
   "source": [
    "# Creating a dictionary with Keys the number of the nodes and Values the Names of the characters \n",
    "node = data['nodes']\n",
    "nodes ={}\n",
    "for i in range(len(node)):\n",
    "    nodes[i] = [node[i]['name']]\n",
    "nodes  "
   ]
  },
  {
   "cell_type": "code",
   "execution_count": null,
   "id": "8eb9e369",
   "metadata": {
    "ExecuteTime": {
     "end_time": "2021-11-01T20:04:38.446087Z",
     "start_time": "2021-11-01T20:04:38.431057Z"
    }
   },
   "outputs": [],
   "source": [
    "# Adding to each node the attribute human or Other Sentient Species \n",
    "\n",
    "nodes[0].append('Other Sentient Species')\n",
    "nodes[1].append('Other Sentient Species')\n",
    "nodes[2].append('Human')\n",
    "nodes[3].append('Human')\n",
    "nodes[4].append('Human')\n",
    "nodes[5].append('Human')\n",
    "nodes[6].append('Other Sentient Species')\n",
    "nodes[7].append('Human')\n",
    "nodes[8].append('Human')\n",
    "nodes[9].append('Human')\n",
    "nodes[10].append('Human')\n",
    "nodes[11].append('Human')\n",
    "nodes[12].append('Human')\n",
    "nodes[13].append('Human')\n",
    "nodes[14].append('Human')\n",
    "nodes[15].append('Human')\n",
    "nodes[16].append('Human')\n",
    "nodes[17].append('Human')\n",
    "nodes[18].append('Other Sentient Species')\n",
    "nodes[19].append('Other Sentient Species')\n",
    "nodes[20].append('Human')"
   ]
  },
  {
   "cell_type": "code",
   "execution_count": null,
   "id": "3ab1f2b9",
   "metadata": {
    "ExecuteTime": {
     "end_time": "2021-11-01T20:04:38.462093Z",
     "start_time": "2021-11-01T20:04:38.449058Z"
    }
   },
   "outputs": [],
   "source": [
    "nodes"
   ]
  },
  {
   "cell_type": "code",
   "execution_count": null,
   "id": "4eb66d03",
   "metadata": {
    "ExecuteTime": {
     "end_time": "2021-11-01T20:04:38.493317Z",
     "start_time": "2021-11-01T20:04:38.467076Z"
    }
   },
   "outputs": [],
   "source": [
    "# Creating the list with the edges\n",
    "links = data['links']\n",
    "edges=[]\n",
    "for i in range(len(links)):\n",
    "    edges.append((links[i]['source'],links[i]['target'], {'value': links[i]['value']}))\n",
    "edges"
   ]
  },
  {
   "cell_type": "code",
   "execution_count": null,
   "id": "48125214",
   "metadata": {
    "ExecuteTime": {
     "end_time": "2021-11-01T20:04:38.525422Z",
     "start_time": "2021-11-01T20:04:38.500454Z"
    }
   },
   "outputs": [],
   "source": [
    "def homophily_Asses (nodes,edges):\n",
    "    #Count types of entities in the distribution\n",
    "    h=0\n",
    "    s=0\n",
    "    for entity in nodes.values():\n",
    "        if entity[1] == 'Human':\n",
    "            h+=1\n",
    "        elif entity[1] == 'Other Sentient Species':\n",
    "            s+=1\n",
    "    pr_h = round((h/(h+s)),2)\n",
    "    pr_s = round((s/(h+s)),2)\n",
    "\n",
    "    #Count edges types\n",
    "    hh=0               # Human-Human Interactions \n",
    "    hs=0               # Human-Sentient Species Interactions \n",
    "    ss=0               # Sentient Species-Sentient Species Interactions\n",
    "    for edge in edges:\n",
    "        if nodes[edge[0]][1] == 'Human' and nodes[edge[1]][1] == 'Human':\n",
    "            hh+=1\n",
    "        elif nodes[edge[0]][1] == 'Human' and nodes[edge[1]][1] == 'Other Sentient Species':\n",
    "            hs+=1\n",
    "        elif nodes[edge[0]][1] == 'Other Sentient Species' and nodes[edge[1]][1] == 'Human':\n",
    "            hs+=1\n",
    "        elif nodes[edge[0]][1] == 'Other Sentient Species' and nodes[edge[1]][1] == 'Other Sentient Species':\n",
    "            ss+=1\n",
    "\n",
    "    # Find probabilities of the edges:       \n",
    "    pr_hs = round((hs/len(edges)),2)\n",
    "\n",
    "    #Probablities of homophily\n",
    "    pr_hh = round((pr_h*pr_h),2)\n",
    "    pr_ss = round((pr_s*pr_s),2)\n",
    "\n",
    "    #Probabilities of heterophily in our human / sentient spieces distribution\n",
    "    pr_hs_distribution = 2*(pr_s*pr_h) \n",
    "\n",
    "    print(\"Portion of humans - Sentient Species\",pr_h,pr_s)\n",
    "    print(\"Prob of homophily in the distribution: \",pr_hh, pr_ss)\n",
    "    print(\"Prob heterophily in the distribution: \",pr_hs_distribution)\n",
    "    print(\"Proportion of human-Sentient ties: \", pr_hs)\n",
    "    if pr_hs!= pr_hs_distribution:\n",
    "        return \"Evidence of Homophily in the Network\"\n",
    "    else:\n",
    "        return \"Not evidence of Homophily in the Network\""
   ]
  },
  {
   "cell_type": "code",
   "execution_count": null,
   "id": "59c5a44a",
   "metadata": {
    "ExecuteTime": {
     "end_time": "2021-11-01T20:04:38.541188Z",
     "start_time": "2021-11-01T20:04:38.529180Z"
    }
   },
   "outputs": [],
   "source": [
    "homophily_Asses(nodes, edges)"
   ]
  }
 ],
 "metadata": {
  "kernelspec": {
   "display_name": "Python 3",
   "language": "python",
   "name": "python3"
  },
  "language_info": {
   "codemirror_mode": {
    "name": "ipython",
    "version": 3
   },
   "file_extension": ".py",
   "mimetype": "text/x-python",
   "name": "python",
   "nbconvert_exporter": "python",
   "pygments_lexer": "ipython3",
   "version": "3.6.13"
  },
  "toc": {
   "base_numbering": 1,
   "nav_menu": {},
   "number_sections": true,
   "sideBar": true,
   "skip_h1_title": false,
   "title_cell": "Table of Contents",
   "title_sidebar": "Contents",
   "toc_cell": false,
   "toc_position": {},
   "toc_section_display": true,
   "toc_window_display": false
  },
  "varInspector": {
   "cols": {
    "lenName": 16,
    "lenType": 16,
    "lenVar": 40
   },
   "kernels_config": {
    "python": {
     "delete_cmd_postfix": "",
     "delete_cmd_prefix": "del ",
     "library": "var_list.py",
     "varRefreshCmd": "print(var_dic_list())"
    },
    "r": {
     "delete_cmd_postfix": ") ",
     "delete_cmd_prefix": "rm(",
     "library": "var_list.r",
     "varRefreshCmd": "cat(var_dic_list()) "
    }
   },
   "types_to_exclude": [
    "module",
    "function",
    "builtin_function_or_method",
    "instance",
    "_Feature"
   ],
   "window_display": false
  }
 },
 "nbformat": 4,
 "nbformat_minor": 5
}
